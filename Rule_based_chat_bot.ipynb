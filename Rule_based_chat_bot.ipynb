{
  "nbformat": 4,
  "nbformat_minor": 0,
  "metadata": {
    "colab": {
      "provenance": [],
      "authorship_tag": "ABX9TyPwCFBWkHjz3dF5/6VoGck8",
      "include_colab_link": true
    },
    "kernelspec": {
      "name": "python3",
      "display_name": "Python 3"
    },
    "language_info": {
      "name": "python"
    }
  },
  "cells": [
    {
      "cell_type": "markdown",
      "metadata": {
        "id": "view-in-github",
        "colab_type": "text"
      },
      "source": [
        "<a href=\"https://colab.research.google.com/github/Mwakanemela/python-in-google-colaboratory/blob/main/Rule_based_chat_bot.ipynb\" target=\"_parent\"><img src=\"https://colab.research.google.com/assets/colab-badge.svg\" alt=\"Open In Colab\"/></a>"
      ]
    },
    {
      "cell_type": "code",
      "source": [
        "import re\n",
        "import random"
      ],
      "metadata": {
        "id": "e6oOEPljSKeK"
      },
      "execution_count": 1,
      "outputs": []
    },
    {
      "cell_type": "code",
      "execution_count": 11,
      "metadata": {
        "colab": {
          "base_uri": "https://localhost:8080/"
        },
        "id": "_4Kh5Qv7Ir7j",
        "outputId": "bb48823b-7e0b-43f2-fed5-14a7f7f5af38"
      },
      "outputs": [
        {
          "output_type": "stream",
          "name": "stdout",
          "text": [
            "What is your name?\n",
            "Mwakanemela Kayange\n",
            "Hi Mwakanemela Kayange, I am M-Bot. Will you help me learn programming?\n",
            "next time\n",
            "What planets have you visited?\n",
            "Who is mwaka?\n",
            "I was made by mwaka\n",
            "oh I see, mwaka is your creator?\n",
            "I was made by mwaka\n",
            "I heard you were made by mwaka, what else can you tell me?\n",
            "Mwaka is a software engineer\n",
            "exit\n",
            "Okay, have a nice coding day!\n"
          ]
        }
      ],
      "source": [
        "class RuleBot:\n",
        "  negative_responses = (\"no\", \"nope\", \"sorry\")\n",
        "  exit_commands = (\"quit\", \"pause\", \"exit\")\n",
        "  random_questions = (\n",
        "      \"Why are you here?\\n\",\n",
        "      \"What planets have you visited?\\n\",\n",
        "      \"Do you know programming?\\n\"\n",
        "  )\n",
        "  def __init__(self):\n",
        "    self.alienbabble = {\n",
        "        \"describe_programming_intent\": r\".\\s*your programming.*\",\n",
        "        \"answer_why_intent\": r\"why\\sare.*\",\n",
        "        \"about_mwaka\":r\".*\\s*mwaka\"\n",
        "    }\n",
        "\n",
        "  def greet(self):\n",
        "    self.name = input(\"What is your name?\\n\")\n",
        "    will_help = input(\n",
        "        f\"Hi {self.name}, I am M-Bot. Will you help me learn programming?\\n\"\n",
        "    )\n",
        "    if will_help in self.negative_responses:\n",
        "      print(\"Ok, have a nice coding day!\")\n",
        "      return\n",
        "    self.chat()\n",
        "\n",
        "  def make_exit(self, reply):\n",
        "    for command in self.exit_commands:\n",
        "      if reply == command:\n",
        "        print(\"Okay, have a nice coding day!\")\n",
        "        return True\n",
        "\n",
        "  def chat(self):\n",
        "    reply = input(random.choice(self.random_questions)).lower()\n",
        "    while not self.make_exit(reply):\n",
        "      reply = input(self.match_reply(reply))\n",
        "\n",
        "  def match_reply(self, reply):\n",
        "    for key, value in self.alienbabble.items():\n",
        "      intent = key\n",
        "      regex_pattern = value\n",
        "      found_match = re.match(regex_pattern, reply)\n",
        "      if found_match and intent == \"describe_programming_intent\":\n",
        "        return self.describe_planet_intent()\n",
        "      elif found_match and intent == \"answer_why_intent\":\n",
        "        return self.answer_why_intent()\n",
        "      elif found_match and intent == \"about_mwaka\":\n",
        "        return self.about_mwaka()\n",
        "    if not found_match:\n",
        "      return self.no_match_intent()\n",
        "\n",
        "  def describe_planet_intent(self):\n",
        "    responses = (\"I am from Malawi\\n\", \"I am from Chitipa and Mulanje - Malawi\\n\")\n",
        "    return random.choice(responses)\n",
        "\n",
        "  def answer_why_intent(self):\n",
        "    responses = (\n",
        "        \"I come to learn programming\\n\", \"I want to collect data\\n\",\n",
        "        \"I heard Software Engineering is fun\\n\"\n",
        "    )\n",
        "\n",
        "    return random.choice(responses)\n",
        "\n",
        "  def about_mwaka(self):\n",
        "    responses = (\n",
        "        \"Mwaka is a software engineer\\n\",\n",
        "        \"Mwaka loves coding\\n\",\n",
        "        \"Mwaka is the one who created me\\n\",\n",
        "        \"I was made by mwaka\\n\"\n",
        "    )\n",
        "    return random.choice(responses)\n",
        "\n",
        "  def no_match_intent(self):\n",
        "    responses = (\n",
        "        \"Please tell me more\\n\", \"Tell me more\", \"I see, explain?\\n\",\n",
        "        \"Okay\\n\"\n",
        "        )\n",
        "    return random.choice(responses)\n",
        "\n",
        "mBot = RuleBot()\n",
        "mBot.greet()"
      ]
    },
    {
      "cell_type": "code",
      "source": [],
      "metadata": {
        "id": "zXRjHQ6Hla1e"
      },
      "execution_count": null,
      "outputs": []
    }
  ]
}