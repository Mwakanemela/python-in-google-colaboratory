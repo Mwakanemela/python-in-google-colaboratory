{
  "nbformat": 4,
  "nbformat_minor": 0,
  "metadata": {
    "colab": {
      "provenance": [],
      "toc_visible": true,
      "authorship_tag": "ABX9TyM0UKOUGxScAbGdXi+OSty7",
      "include_colab_link": true
    },
    "kernelspec": {
      "name": "python3",
      "display_name": "Python 3"
    },
    "language_info": {
      "name": "python"
    }
  },
  "cells": [
    {
      "cell_type": "markdown",
      "metadata": {
        "id": "view-in-github",
        "colab_type": "text"
      },
      "source": [
        "<a href=\"https://colab.research.google.com/github/Mwakanemela/python-in-google-colaboratory/blob/main/NumPy_Numerical_Python.ipynb\" target=\"_parent\"><img src=\"https://colab.research.google.com/assets/colab-badge.svg\" alt=\"Open In Colab\"/></a>"
      ]
    },
    {
      "cell_type": "code",
      "execution_count": null,
      "metadata": {
        "id": "6_D4h6PfS_om"
      },
      "outputs": [],
      "source": []
    },
    {
      "cell_type": "markdown",
      "source": [
        "# List vs NumPy - in terms of time taken"
      ],
      "metadata": {
        "id": "27IiBrMKuryn"
      }
    },
    {
      "cell_type": "code",
      "source": [
        "from time import process_time"
      ],
      "metadata": {
        "id": "m0sPvexpu9_G"
      },
      "execution_count": 2,
      "outputs": []
    },
    {
      "cell_type": "code",
      "source": [
        "python_list = [i for i in range(100000)]\n",
        "\n",
        "start_time = process_time()\n",
        "\n",
        "python_list = [i+5 for i in python_list]\n",
        "\n",
        "end_time = process_time()\n",
        "\n",
        "print(end_time - start_time)"
      ],
      "metadata": {
        "colab": {
          "base_uri": "https://localhost:8080/"
        },
        "id": "ZIGsT3WU02K9",
        "outputId": "36685269-13f9-42c4-ec44-7fd8d5cc9f36"
      },
      "execution_count": 3,
      "outputs": [
        {
          "output_type": "stream",
          "name": "stdout",
          "text": [
            "0.01121154000000013\n"
          ]
        }
      ]
    },
    {
      "cell_type": "code",
      "source": [
        "import numpy as np\n",
        "\n",
        "np_array = np.array([i for i in range(100000)])\n",
        "\n",
        "start_time = process_time()\n",
        "\n",
        "np_array += 5\n",
        "\n",
        "end_time = process_time()\n",
        "\n",
        "print(end_time - start_time)"
      ],
      "metadata": {
        "colab": {
          "base_uri": "https://localhost:8080/"
        },
        "id": "cmuNWvPN1VEp",
        "outputId": "2fc950ea-f9a3-4b52-a44d-e40964c5a509"
      },
      "execution_count": 4,
      "outputs": [
        {
          "output_type": "stream",
          "name": "stdout",
          "text": [
            "0.0004927260000000544\n"
          ]
        }
      ]
    }
  ]
}