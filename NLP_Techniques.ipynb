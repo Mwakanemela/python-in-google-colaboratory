{
  "nbformat": 4,
  "nbformat_minor": 0,
  "metadata": {
    "colab": {
      "provenance": [],
      "toc_visible": true,
      "authorship_tag": "ABX9TyNzHYKUGHo3LHuxrXPECRe3",
      "include_colab_link": true
    },
    "kernelspec": {
      "name": "python3",
      "display_name": "Python 3"
    },
    "language_info": {
      "name": "python"
    }
  },
  "cells": [
    {
      "cell_type": "markdown",
      "metadata": {
        "id": "view-in-github",
        "colab_type": "text"
      },
      "source": [
        "<a href=\"https://colab.research.google.com/github/Mwakanemela/python-in-google-colaboratory/blob/main/NLP_Techniques.ipynb\" target=\"_parent\"><img src=\"https://colab.research.google.com/assets/colab-badge.svg\" alt=\"Open In Colab\"/></a>"
      ]
    },
    {
      "cell_type": "markdown",
      "source": [
        "# **Model to train on**"
      ],
      "metadata": {
        "id": "qCJU642ziR8f"
      }
    },
    {
      "cell_type": "code",
      "execution_count": 6,
      "metadata": {
        "id": "a63kfCKhY4H8"
      },
      "outputs": [],
      "source": [
        "train_x = [\"i love the book\", \"this is a great book\", \"the fit is great\", \"i love the shoes\"]\n",
        "train_m = [\"Mwakanemela Kayange\", \"kayange mwakanemela\", \"mwaka likes programming\", \"Mwaka is writing code in python\"]"
      ]
    },
    {
      "cell_type": "code",
      "source": [
        "from sklearn.feature_extraction.text import CountVectorizer\n",
        "\n",
        "vectorizer = CountVectorizer()\n",
        "vector = vectorizer.fit_transform(train_m)\n",
        "\n",
        "print(vectorizer.get_feature_names_out())"
      ],
      "metadata": {
        "colab": {
          "base_uri": "https://localhost:8080/"
        },
        "id": "zUVUo2yliQYu",
        "outputId": "1feed28b-0b51-4c26-b0dd-8fdc0bb51bf0"
      },
      "execution_count": 9,
      "outputs": [
        {
          "output_type": "stream",
          "name": "stdout",
          "text": [
            "['code' 'in' 'is' 'kayange' 'likes' 'mwaka' 'mwakanemela' 'programming'\n",
            " 'python' 'writing']\n"
          ]
        }
      ]
    },
    {
      "cell_type": "code",
      "source": [],
      "metadata": {
        "id": "oRUsIHi8i52N"
      },
      "execution_count": null,
      "outputs": []
    }
  ]
}